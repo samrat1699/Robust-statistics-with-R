{
  "nbformat": 4,
  "nbformat_minor": 0,
  "metadata": {
    "colab": {
      "provenance": [],
      "toc_visible": true
    },
    "kernelspec": {
      "name": "ir",
      "display_name": "R"
    },
    "language_info": {
      "name": "R"
    }
  },
  "cells": [
    {
      "cell_type": "markdown",
      "source": [
        "##### **Problem-1:** Generate 1000 normal distribution data with mean 5 and variance 1. Draw the graph of (x-5)^2 and |x-5|.\n",
        "  \n"
      ],
      "metadata": {
        "id": "ID_sn4CSTVoc"
      }
    },
    {
      "cell_type": "code",
      "source": [
        "#generate 1000 N~(5, 1)\n",
        "data <- rnorm(1000, mean=5, sd = 1)\n",
        "a = 5\n",
        "#sequence of x values\n",
        "x <- seq(a-10, a+10, length.out = length(data))\n",
        "\n",
        "# Define two functions: (x-a)^2 and |x-a|\n",
        "f1 <- (x - a)^2\n",
        "f2 <- abs(x - a)\n",
        "\n",
        "# Create a 2x1 subplot layout\n",
        "par(mfrow = c(2, 1),mar = c(4, 4, 2, 2))\n",
        "\n",
        "# Plot the first function (x-a)^2\n",
        "plot(x, f1, type = 'l', xlab = \"x\", ylab = \"(x-a)^2\",\n",
        "main = \"(x-a)^2 Function\")\n",
        "grid()\n",
        "\n",
        "# Plot the second function |x-a|\n",
        "plot(x, f2, type = 'l', xlab = \"x\", ylab = \"|x-a|\",\n",
        "main = \"|x-a| Function\")\n",
        "grid()"
      ],
      "metadata": {
        "colab": {
          "base_uri": "https://localhost:8080/",
          "height": 437
        },
        "id": "ab6-49tOVP_r",
        "outputId": "20b980c8-c6cd-40c0-f14c-c0171d6f40ab"
      },
      "execution_count": null,
      "outputs": [
        {
          "output_type": "display_data",
          "data": {
            "text/plain": [
              "Plot with title “|x-a| Function”"
            ],
            "image/png": "[encoded data removed]"
          },
          "metadata": {
            "image/png": {
              "width": 420,
              "height": 420
            }
          }
        }
      ]
    },
    {
      "cell_type": "markdown",
      "source": [
        "###### **Problem-2:** For various values of tao and epsilon create table of nvar(xbar) and nvar(med(x))"
      ],
      "metadata": {
        "id": "D1TcCjdFWRgC"
      }
    },
    {
      "cell_type": "code",
      "source": [
        "# Function of nvar(xbar)\n",
        "var_xbar <- function(epsilon, tao){\n",
        "  nvar_xbar <- ((1-epsilon) + epsilon * tao^2)\n",
        "  return(nvar_xbar)\n",
        "}\n",
        "#Function of nvar(med(x))\n",
        "var_med <- function(epsilon, tao){\n",
        "  nvar_med <- pi / (2 * (1 - epsilon + epsilon / tao)^2)\n",
        "  return(nvar_med)\n",
        "}\n",
        "# values of epsilon and tao\n",
        "epsilon_vals <- c(0.05, 0.10, 0.15)\n",
        "tao_vals <- c(3, 4, 5, 6, 10, 20)\n",
        "\n",
        "#calculation variances for each combination of epsilon and tao\n",
        "results <- data.frame()\n",
        "for (epsilon in epsilon_vals){\n",
        "  for (tao in tao_vals){\n",
        "    nvar_xbar <- var_xbar(epsilon, tao)\n",
        "    nvar_med <- var_med(epsilon, tao)\n",
        "    results <- rbind(results, data.frame(tao, nvar_xbar, nvar_med))\n",
        "  }\n",
        "  # Print the results\n",
        "  cat(\"Epsilon =\", epsilon, \"\\n\")\n",
        "  rounded_results <- round(results, 2)\n",
        "  print(rounded_results)\n",
        "  cat(\"\\n\")  #blank line as a separate\n",
        "  results <- data.frame()\n",
        "}\n"
      ],
      "metadata": {
        "colab": {
          "base_uri": "https://localhost:8080/"
        },
        "id": "ei71Ly5vWge_",
        "outputId": "05c14dee-a6d2-4c00-d43d-dece703d7951"
      },
      "execution_count": null,
      "outputs": [
        {
          "output_type": "stream",
          "name": "stdout",
          "text": [
            "Epsilon = 0.05 \n",
            "  tao nvar_xbar nvar_med\n",
            "1   3      1.40     1.68\n",
            "2   4      1.75     1.70\n",
            "3   5      2.20     1.70\n",
            "4   6      2.75     1.71\n",
            "5  10      5.95     1.72\n",
            "6  20     20.95     1.73\n",
            "\n",
            "Epsilon = 0.1 \n",
            "  tao nvar_xbar nvar_med\n",
            "1   3       1.8     1.80\n",
            "2   4       2.5     1.84\n",
            "3   5       3.4     1.86\n",
            "4   6       4.5     1.87\n",
            "5  10      10.9     1.90\n",
            "6  20      40.9     1.92\n",
            "\n",
            "Epsilon = 0.15 \n",
            "  tao nvar_xbar nvar_med\n",
            "1   3      2.20     1.94\n",
            "2   4      3.25     1.99\n",
            "3   5      4.60     2.03\n",
            "4   6      6.25     2.05\n",
            "5  10     15.85     2.10\n",
            "6  20     60.85     2.14\n",
            "\n"
          ]
        }
      ]
    },
    {
      "cell_type": "markdown",
      "source": [
        "###### **Problem-3:** Generate 1000 data from standard normal distribution and draw graphs of rho(ρ) and psi(ψ) for mean, median and Huber\n"
      ],
      "metadata": {
        "id": "zTaAd8g3W2JJ"
      }
    },
    {
      "cell_type": "code",
      "source": [
        "data <- rnorm(1000, 0,1)# Generate 1000 data N~(0,1)\n",
        "x <- seq(-3, 3, length.out = length(data))#sequence of x values\n",
        "k=1.5 # for Huber parameter\n",
        "\n",
        "# Define rho(ρ) function of mean, median and Huber\n",
        "rho_mean <- (x^2)\n",
        "rho_median <- abs(x)\n",
        "rho_Huber <- ifelse(abs(x) <= k, x^2, 2*k*abs(x)-k^2)\n",
        "\n",
        "# Define psi(ψ)function of mean, median and Huber\n",
        "psi_mean <- x\n",
        "psi_median <- sign(x)\n",
        "psi_Huber <- ifelse(abs(x) <= k, x, k * sign(x))\n",
        "\n",
        "par(mfrow = c(3, 2),mar = c(4, 4, 2, 2))# Create a 3x1 grid of subplots\n",
        "\n",
        "#plot of mean\n",
        "plot (x, rho_mean, type = 'l', xlab = 'x', ylab = \"ρ(x) = x^2\",\n",
        "main = \"Mean of p(x) = X^2/2\")\n",
        "grid()\n",
        "#plot of psi mean\n",
        "plot (x, psi_mean,type = 'l', xlab = 'x', ylab = \"ψ(x)\",\n",
        "main = \"Mean of ψ(x) = x\")\n",
        "grid()\n",
        "\n",
        "#plot of median\n",
        "plot (x, rho_median, type = 'l', xlab = 'x', ylab = \"ρ(x) = |x|\",\n",
        "main = \"Median of p(x) = |x|\")\n",
        "grid()\n",
        "#plot of psi median\n",
        "plot(x, psi_median,type = 'l',xlab = \"x\", ylab = \"ψ(x)\",\n",
        "main = \"ψ Function for Median\")\n",
        "grid()\n",
        "\n",
        "#plot of huber\n",
        "plot (x, rho_Huber, type = 'l',xlab = 'x', ylab = \"ρ(x)\",\n",
        "main = paste(\"ρ Function for Huber Estimator (k =\", k, \")\"))\n",
        "grid()\n",
        "#plot of psi huber\n",
        "plot(x, psi_Huber,type = 'l',xlab = \"x\", ylab = \"ψb(x)\",\n",
        "main = paste(\"ψ Function for Huber Estimator (k =\", k, \")\"))\n",
        "grid()"
      ],
      "metadata": {
        "colab": {
          "base_uri": "https://localhost:8080/",
          "height": 437
        },
        "id": "1UHV_ROIXBA1",
        "outputId": "5adfc98a-de5b-4c16-81d0-51522bb9aebc"
      },
      "execution_count": null,
      "outputs": [
        {
          "output_type": "display_data",
          "data": {
            "text/plain": [
              "Plot with title “ψ Function for Huber Estimator (k = 1.5 )”"
            ],
            "image/png": "[encoded data removed]"
          },
          "metadata": {
            "image/png": {
              "width": 420,
              "height": 420
            }
          }
        }
      ]
    },
    {
      "cell_type": "code",
      "source": [],
      "metadata": {
        "id": "kCd9cqqF5GGN"
      },
      "execution_count": null,
      "outputs": []
    },
    {
      "cell_type": "code",
      "source": [
        "#data <- rnorm(1000, 0,1)# Generate 1000 data N~(0,1)\n",
        "#x <- seq(-3, 3, length.out = length(data))#sequence of x values\n",
        "x <- c(2, -3, 9, 3, 10, 5, -5, 1, 1.5)\n",
        "k=3 # for Huber parameter\n",
        "\n",
        "# Define rho(ρ) function of mean, median and Huber\n",
        "rho_mean <- (x^2)\n",
        "rho_median <- abs(x)\n",
        "rho_Huber <- ifelse(abs(x) <= k, x^2, 2*k*abs(x)-k^2)\n",
        "\n",
        "# Define psi(ψ)function of mean, median and Huber\n",
        "psi_mean <- x\n",
        "psi_median <- sign(x)\n",
        "psi_Huber <- ifelse(abs(x) <= k, x, k * sign(x))"
      ],
      "metadata": {
        "id": "UJ2M5PQr5GD1"
      },
      "execution_count": null,
      "outputs": []
    },
    {
      "cell_type": "code",
      "source": [
        "psi_Huber"
      ],
      "metadata": {
        "colab": {
          "base_uri": "https://localhost:8080/",
          "height": 34
        },
        "id": "Gjj0VvOG5GA2",
        "outputId": "cde4120d-a77e-4521-9c8f-132fc6ff05f2"
      },
      "execution_count": null,
      "outputs": [
        {
          "output_type": "display_data",
          "data": {
            "text/html": [
              "<style>\n",
              ".list-inline {list-style: none; margin:0; padding: 0}\n",
              ".list-inline>li {display: inline-block}\n",
              ".list-inline>li:not(:last-child)::after {content: \"\\00b7\"; padding: 0 .5ex}\n",
              "</style>\n",
              "<ol class=list-inline><li>2</li><li>-3</li><li>3</li><li>3</li><li>3</li><li>3</li><li>-3</li><li>1</li><li>1.5</li></ol>\n"
            ],
            "text/markdown": "1. 2\n2. -3\n3. 3\n4. 3\n5. 3\n6. 3\n7. -3\n8. 1\n9. 1.5\n\n\n",
            "text/latex": "\\begin{enumerate*}\n\\item 2\n\\item -3\n\\item 3\n\\item 3\n\\item 3\n\\item 3\n\\item -3\n\\item 1\n\\item 1.5\n\\end{enumerate*}\n",
            "text/plain": [
              "[1]  2.0 -3.0  3.0  3.0  3.0  3.0 -3.0  1.0  1.5"
            ]
          },
          "metadata": {}
        }
      ]
    },
    {
      "cell_type": "code",
      "source": [
        "# Define the w(x) function\n",
        "w <- function(x, k=3) {\n",
        "  return(pmin(1, k / abs(x)))\n",
        "}\n",
        "\n",
        "x <- c(2, -3, 9, 3, 10, 5, -5, 1, 1.5)\n",
        "# Calculate the corresponding w(x) values\n",
        "w_values <- w(x)\n",
        "\n",
        "w_values\n",
        "\n"
      ],
      "metadata": {
        "colab": {
          "base_uri": "https://localhost:8080/",
          "height": 34
        },
        "id": "0UpFCn7I5F-a",
        "outputId": "3f744c0d-fe39-4d83-f479-a8c30a76cc2a"
      },
      "execution_count": null,
      "outputs": [
        {
          "output_type": "display_data",
          "data": {
            "text/html": [
              "<style>\n",
              ".list-inline {list-style: none; margin:0; padding: 0}\n",
              ".list-inline>li {display: inline-block}\n",
              ".list-inline>li:not(:last-child)::after {content: \"\\00b7\"; padding: 0 .5ex}\n",
              "</style>\n",
              "<ol class=list-inline><li>1</li><li>1</li><li>0.333333333333333</li><li>1</li><li>0.3</li><li>0.6</li><li>0.6</li><li>1</li><li>1</li></ol>\n"
            ],
            "text/markdown": "1. 1\n2. 1\n3. 0.333333333333333\n4. 1\n5. 0.3\n6. 0.6\n7. 0.6\n8. 1\n9. 1\n\n\n",
            "text/latex": "\\begin{enumerate*}\n\\item 1\n\\item 1\n\\item 0.333333333333333\n\\item 1\n\\item 0.3\n\\item 0.6\n\\item 0.6\n\\item 1\n\\item 1\n\\end{enumerate*}\n",
            "text/plain": [
              "[1] 1.0000000 1.0000000 0.3333333 1.0000000 0.3000000 0.6000000 0.6000000\n",
              "[8] 1.0000000 1.0000000"
            ]
          },
          "metadata": {}
        }
      ]
    },
    {
      "cell_type": "code",
      "source": [],
      "metadata": {
        "id": "yiWqIC6C5F7V"
      },
      "execution_count": null,
      "outputs": []
    },
    {
      "cell_type": "code",
      "source": [],
      "metadata": {
        "id": "lQo2viXE5FwU"
      },
      "execution_count": null,
      "outputs": []
    },
    {
      "cell_type": "markdown",
      "source": [
        "##### **Problem-4:** Generate 1000 standard normal data and draw Huber function"
      ],
      "metadata": {
        "id": "naXfp7O9a6RJ"
      }
    },
    {
      "cell_type": "code",
      "source": [
        "# Define the w(x) function\n",
        "w <- function(x, k=1.5) {\n",
        "  return(pmin(1, k / abs(x)))\n",
        "}\n",
        "\n",
        "# Generate data 1000, N~(0,1)\n",
        "data <- rnorm(1000, 0, 1)\n",
        "x <- seq(-3, 3, length.out = length(data))\n",
        "\n",
        "# Calculate the corresponding w(x) values\n",
        "w_values <- w(x)\n",
        "\n",
        "#visualize w(x) as a function of x\n",
        "plot(x, w_values,type = 'l',xlab = \"x\", ylab = \"w(x)\",\n",
        "main = \"Visualization of w(x)\")\n",
        "grid()"
      ],
      "metadata": {
        "colab": {
          "base_uri": "https://localhost:8080/",
          "height": 437
        },
        "id": "Lukew8_UbSJq",
        "outputId": "74e72f12-db02-4485-df03-1700787c896d"
      },
      "execution_count": null,
      "outputs": [
        {
          "output_type": "display_data",
          "data": {
            "text/plain": [
              "Plot with title “Visualization of w(x)”"
            ],
            "image/png": "[encoded data removed]"
          },
          "metadata": {
            "image/png": {
              "width": 420,
              "height": 420
            }
          }
        }
      ]
    },
    {
      "cell_type": "markdown",
      "source": [
        "##### **Problem-5:** Generate 10,000 data in which 95% came from standard normal distribution and 5% came from normal distribution with mean 10, variance 1. Find the M-Estimate"
      ],
      "metadata": {
        "id": "jM_gnPv9cPO9"
      }
    },
    {
      "cell_type": "code",
      "source": [
        "set.seed(200)  # For reproducibility\n",
        "x <- c(rnorm(0.95 * 10000), rnorm(0.05 * 10000, mean = 10, sd = 1))\n",
        "mean <- mean(x)\n",
        "cat(\"mean:\", mean)\n",
        "\n",
        "# Define the w(x) function\n",
        "w <- function(x, k=1.5) {\n",
        "  return(pmin(1, k / abs(x)))\n",
        "}\n",
        "\n",
        "Huber_M <- function(x,tol = 1e-10) {\n",
        "  mu <- median(x)\n",
        "  weighted_diff <- w(x - mu)\n",
        "  mu_new <- sum(weighted_diff * x) / sum(w(x))\n",
        "  while(abs(mu_new - mu) > tol) {\n",
        "    mu <- mu_new\n",
        "    weighted_diff <- w(x - mu)\n",
        "    mu_new <- sum(weighted_diff * x) / sum(weighted_diff)\n",
        "    }\n",
        "    return(mu_new)\n",
        "  }\n",
        "\n",
        "# Call the Huber_M function\n",
        "huber_estimate <- Huber_M(x)\n",
        "cat('\\nhuber_estimate:',huber_estimate)"
      ],
      "metadata": {
        "colab": {
          "base_uri": "https://localhost:8080/"
        },
        "id": "S_CF08c-cPjz",
        "outputId": "1bbf4cc9-3bb0-417d-a777-ac258b226642"
      },
      "execution_count": null,
      "outputs": [
        {
          "output_type": "stream",
          "name": "stdout",
          "text": [
            "mean: 0.497539\n",
            "huber_estimate: 0.08472451"
          ]
        }
      ]
    },
    {
      "cell_type": "code",
      "source": [],
      "metadata": {
        "id": "_cDf2KwmWRJS"
      },
      "execution_count": null,
      "outputs": []
    },
    {
      "cell_type": "code",
      "source": [
        "set.seed(200)  # For reproducibility\n",
        "x <- c(rnorm(0.95 * 10000), rnorm(0.05 * 10000, mean = 10, sd = 1))\n",
        "mean_x <- mean(x)\n",
        "cat(\"mean:\", mean_x)\n",
        "\n",
        "# Define the w(x) function\n",
        "w <- function(x, k = 1.5) {\n",
        "  return(pmin(1, k / abs(x)))\n",
        "}\n",
        "\n",
        "Huber_M <- function(x, tol = 1e-10) {\n",
        "  mu <- median(x)\n",
        "  weighted_diff <- w(x - mu)\n",
        "  mu_new <- sum(weighted_diff * x) / sum(weighted_diff)\n",
        "\n",
        "  while (abs(mu_new - mu) > tol) {\n",
        "    mu <- mu_new\n",
        "    weighted_diff <- w(x - mu)\n",
        "    mu_new <- sum(weighted_diff * x) / sum(weighted_diff)\n",
        "  }\n",
        "\n",
        "  return(mu_new)\n",
        "}\n",
        "\n",
        "# Call the Huber_M function\n",
        "huber_estimate <- Huber_M(x)\n",
        "cat('\\nhuber_estimate:', huber_estimate, '\\n')\n"
      ],
      "metadata": {
        "colab": {
          "base_uri": "https://localhost:8080/"
        },
        "id": "1PLem5keWRGn",
        "outputId": "1a73363b-4a03-4844-e9ec-beaba326064f"
      },
      "execution_count": null,
      "outputs": [
        {
          "output_type": "stream",
          "name": "stdout",
          "text": [
            "mean: 0.497539\n",
            "huber_estimate: 0.08472451 \n"
          ]
        }
      ]
    },
    {
      "cell_type": "code",
      "source": [
        "set.seed(200)  # For reproducibility\n",
        "x <- c(rnorm(0.95 * 10000), rnorm(0.05 * 10000, mean = 10, sd = 1))\n",
        "mean_x <- mean(x)\n",
        "cat(\"mean:\", mean_x)\n",
        "\n",
        "# Define the w(x) function for bisquare\n",
        "w_bisquare <- function(x, k = 4.685) {\n",
        "  return((1 - (x/k)^2)^2 * (abs(x) <= k))\n",
        "}\n",
        "\n",
        "Bisquare_M <- function(x, tol = 1e-10) {\n",
        "  mu <- median(x)\n",
        "  weighted_diff <- w_bisquare(x - mu)\n",
        "  mu_new <- sum(weighted_diff * x) / sum(weighted_diff)\n",
        "\n",
        "  while (abs(mu_new - mu) > tol) {\n",
        "    mu <- mu_new\n",
        "    weighted_diff <- w_bisquare(x - mu)\n",
        "    mu_new <- sum(weighted_diff * x) / sum(weighted_diff)\n",
        "  }\n",
        "\n",
        "  return(mu_new)\n",
        "}\n",
        "\n",
        "# Call the Bisquare_M function\n",
        "bisquare_estimate <- Bisquare_M(x)\n",
        "cat('\\nbisquare_estimate:', bisquare_estimate, '\\n')\n"
      ],
      "metadata": {
        "colab": {
          "base_uri": "https://localhost:8080/"
        },
        "id": "_Tw7qxeZWREF",
        "outputId": "9b24cb3c-3347-4042-8461-cf688172867a"
      },
      "execution_count": null,
      "outputs": [
        {
          "output_type": "stream",
          "name": "stdout",
          "text": [
            "mean: 0.497539\n",
            "bisquare_estimate: -0.007841816 \n"
          ]
        }
      ]
    },
    {
      "cell_type": "code",
      "source": [],
      "metadata": {
        "id": "8QIssPHBWQnE"
      },
      "execution_count": null,
      "outputs": []
    }
  ]
}